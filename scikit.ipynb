{
 "cells": [
  {
   "cell_type": "code",
   "execution_count": 25,
   "id": "5f3c7fbe",
   "metadata": {},
   "outputs": [
    {
     "name": "stdout",
     "output_type": "stream",
     "text": [
      "                  hora  temperatura  humedad\n",
      "0  1644165435711000000         23.0     35.0\n",
      "1  1644165665533000000         23.0     35.0\n",
      "2  1644166028500000000         23.0     35.0\n",
      "3  1644166208318000000         23.0     35.0\n",
      "4  1644166387340000000         23.0     35.0\n"
     ]
    }
   ],
   "source": [
    "import pandas as pd\n",
    "import numpy as np\n",
    "clima = pd.read_csv('datos.csv',names=['hora','temperatura', 'humedad'])\n",
    "pd.set_option('mode.chained_assignment',None)\n",
    "for i in range(759):\n",
    "    clima.hora[i] = clima.hora[i][1:25]\n",
    "\n",
    "clima['hora']= pd.to_datetime(clima['hora'])\n",
    "clima['hora']= pd.to_numeric(clima['hora'])\n",
    "print(clima.head())"
   ]
  },
  {
   "cell_type": "code",
   "execution_count": 13,
   "id": "03d10c9c",
   "metadata": {},
   "outputs": [
    {
     "name": "stdout",
     "output_type": "stream",
     "text": [
      "                    hora  temperatura  humedad\n",
      "754  1644441817907000000         21.0     36.0\n",
      "755  1644442417910000000         21.0     36.0\n",
      "756  1644443018912000000         21.0     37.0\n",
      "757  1644443618415000000         21.0     37.0\n",
      "758  1644443812197000000         21.0     37.0\n"
     ]
    }
   ],
   "source": [
    "print(clima.tail())"
   ]
  },
  {
   "cell_type": "code",
   "execution_count": 18,
   "id": "a2bac45c",
   "metadata": {},
   "outputs": [],
   "source": [
    "y = clima.humedad\n",
    "X = clima[['hora', 'temperatura']]"
   ]
  },
  {
   "cell_type": "code",
   "execution_count": 30,
   "id": "7c1172c8",
   "metadata": {},
   "outputs": [
    {
     "data": {
      "text/plain": [
       "DecisionTreeRegressor(random_state=1)"
      ]
     },
     "execution_count": 30,
     "metadata": {},
     "output_type": "execute_result"
    }
   ],
   "source": [
    "from sklearn.tree import DecisionTreeRegressor as DTR\n",
    "modelo = DTR(random_state=1)\n",
    "modelo.fit(X, y)"
   ]
  },
  {
   "cell_type": "code",
   "execution_count": 24,
   "id": "a3573e7e",
   "metadata": {
    "scrolled": true
   },
   "outputs": [
    {
     "name": "stdout",
     "output_type": "stream",
     "text": [
      "prediccion de humedad suponiendo que no tubieramos ese dato, para las 5 primeras filas\n",
      "                  hora  temperatura\n",
      "0  1644165435711000000         23.0\n",
      "1  1644165665533000000         23.0\n",
      "2  1644166028500000000         23.0\n",
      "3  1644166208318000000         23.0\n",
      "4  1644166387340000000         23.0\n",
      "La prediccion es:\n",
      "[35. 35. 35. 35. 35.]\n"
     ]
    }
   ],
   "source": [
    "print(\"prediccion de humedad suponiendo que no tubieramos ese dato, para las 5 primeras filas\")\n",
    "print(X.head())\n",
    "print(\"La prediccion es:\")\n",
    "print(modelo.predict(X.head()))"
   ]
  },
  {
   "cell_type": "code",
   "execution_count": 23,
   "id": "c800d90a",
   "metadata": {
    "scrolled": true
   },
   "outputs": [
    {
     "name": "stdout",
     "output_type": "stream",
     "text": [
      "prediccion de humedad suponiendo que no tubieramos ese dato, para las últimas 5 filas\n",
      "                    hora  temperatura\n",
      "754  1644441817907000000         21.0\n",
      "755  1644442417910000000         21.0\n",
      "756  1644443018912000000         21.0\n",
      "757  1644443618415000000         21.0\n",
      "758  1644443812197000000         21.0\n",
      "La prediccion es:\n",
      "[36. 36. 37. 37. 37.]\n"
     ]
    }
   ],
   "source": [
    "print(\"prediccion de humedad suponiendo que no tubieramos ese dato, para las últimas 5 filas\")\n",
    "print(X.tail())\n",
    "print(\"La prediccion es:\")\n",
    "print(modelo.predict(X.tail()))"
   ]
  },
  {
   "cell_type": "code",
   "execution_count": 31,
   "id": "59659824",
   "metadata": {},
   "outputs": [
    {
     "data": {
      "text/plain": [
       "0.0013175230566534915"
      ]
     },
     "execution_count": 31,
     "metadata": {},
     "output_type": "execute_result"
    }
   ],
   "source": [
    "from sklearn.metrics import mean_absolute_error as mae\n",
    "\n",
    "humedad_pred = modelo.predict(X)\n",
    "mae(y, humedad_pred)"
   ]
  },
  {
   "cell_type": "code",
   "execution_count": 37,
   "id": "e726e29c",
   "metadata": {},
   "outputs": [
    {
     "name": "stdout",
     "output_type": "stream",
     "text": [
      "0.21052631578947367\n"
     ]
    }
   ],
   "source": [
    "from sklearn.model_selection import train_test_split as traints\n",
    "\n",
    "train_X, val_X, train_y, val_y = traints(X, y, random_state = 0)\n",
    "\n",
    "modelo2 = DTR()\n",
    "\n",
    "modelo2.fit(train_X, train_y)\n",
    "\n",
    "val_predictions = modelo2.predict(val_X)\n",
    "print(mae(val_y, val_predictions))"
   ]
  }
 ],
 "metadata": {
  "kernelspec": {
   "display_name": "Python 3 (ipykernel)",
   "language": "python",
   "name": "python3"
  },
  "language_info": {
   "codemirror_mode": {
    "name": "ipython",
    "version": 3
   },
   "file_extension": ".py",
   "mimetype": "text/x-python",
   "name": "python",
   "nbconvert_exporter": "python",
   "pygments_lexer": "ipython3",
   "version": "3.9.7"
  }
 },
 "nbformat": 4,
 "nbformat_minor": 5
}
